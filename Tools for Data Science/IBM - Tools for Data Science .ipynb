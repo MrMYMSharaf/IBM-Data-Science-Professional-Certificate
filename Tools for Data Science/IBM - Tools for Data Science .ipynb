{
 "cells": [
  {
   "cell_type": "markdown",
   "id": "e232dcf5",
   "metadata": {},
   "source": [
    "# Data Science Final Project"
   ]
  },
  {
   "cell_type": "markdown",
   "id": "f8e6b324",
   "metadata": {},
   "source": [
    "## Introduction\n",
    "Welcome to the final project for our Data Science course. In this notebook, we will explore various aspects of data science and demonstrate our understanding through exercises and examples.\n"
   ]
  },
  {
   "cell_type": "markdown",
   "id": "ae5de48c",
   "metadata": {},
   "source": [
    "## Data Science Languages\n",
    "- Python\n",
    "- R\n",
    "- SQL\n"
   ]
  },
  {
   "cell_type": "markdown",
   "id": "d0a2002b",
   "metadata": {},
   "source": [
    "## Data Science Libraries\n",
    "- NumPy\n",
    "- Pandas\n",
    "- Matplotlib\n"
   ]
  },
  {
   "cell_type": "markdown",
   "id": "a4b5099d",
   "metadata": {},
   "source": [
    "## Data Science Tools\n",
    "\n",
    "| Tool       | Description               |\n",
    "|------------|---------------------------|\n",
    "| Jupyter    | Interactive notebooks     |\n",
    "| TensorFlow | Machine learning library  |\n",
    "| scikit-learn | Machine learning library |\n"
   ]
  },
  {
   "cell_type": "markdown",
   "id": "0a4feb9c",
   "metadata": {},
   "source": [
    "## Arithmetic Expression Examples\n",
    "In this section, we'll explore some basic arithmetic operations using Python.\n"
   ]
  },
  {
   "cell_type": "code",
   "execution_count": 1,
   "id": "8b35ae69",
   "metadata": {},
   "outputs": [
    {
     "name": "stdout",
     "output_type": "stream",
     "text": [
      "Result: 31\n"
     ]
    }
   ],
   "source": [
    "# Multiply and add numbers\n",
    "result = (5 * 3) + (8 * 2)\n",
    "print(\"Result:\", result)\n"
   ]
  },
  {
   "cell_type": "code",
   "execution_count": 2,
   "id": "22510218",
   "metadata": {},
   "outputs": [
    {
     "name": "stdout",
     "output_type": "stream",
     "text": [
      "Hours: 2.5\n"
     ]
    }
   ],
   "source": [
    "# Convert minutes to hours\n",
    "minutes = 150\n",
    "hours = minutes / 60\n",
    "print(\"Hours:\", hours)\n"
   ]
  },
  {
   "cell_type": "markdown",
   "id": "71bc41f3",
   "metadata": {},
   "source": [
    "## Objectives\n",
    "- Demonstrate understanding of data science concepts.\n",
    "- Apply Python programming skills to solve problems.\n",
    "- Utilize data science libraries effectively.\n"
   ]
  },
  {
   "cell_type": "markdown",
   "id": "4535ae34",
   "metadata": {},
   "source": [
    "## Author\n",
    "- mym sharaf\n"
   ]
  },
  {
   "cell_type": "code",
   "execution_count": null,
   "id": "3de09815",
   "metadata": {},
   "outputs": [],
   "source": []
  }
 ],
 "metadata": {
  "kernelspec": {
   "display_name": "Python 3 (ipykernel)",
   "language": "python",
   "name": "python3"
  },
  "language_info": {
   "codemirror_mode": {
    "name": "ipython",
    "version": 3
   },
   "file_extension": ".py",
   "mimetype": "text/x-python",
   "name": "python",
   "nbconvert_exporter": "python",
   "pygments_lexer": "ipython3",
   "version": "3.11.5"
  }
 },
 "nbformat": 4,
 "nbformat_minor": 5
}
